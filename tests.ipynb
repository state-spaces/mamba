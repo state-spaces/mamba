{
 "cells": [
  {
   "cell_type": "code",
   "execution_count": 1,
   "id": "3ffbb2b6-a46c-4983-be90-9c2bd4770031",
   "metadata": {},
   "outputs": [
    {
     "name": "stderr",
     "output_type": "stream",
     "text": [
      "/home/ubuntu/Test/miniforge-pypy3/envs/mamba/lib/python3.11/site-packages/mamba_ssm/ops/selective_scan_interface.py:163: FutureWarning: `torch.cuda.amp.custom_fwd(args...)` is deprecated. Please use `torch.amp.custom_fwd(args..., device_type='cuda')` instead.\n",
      "  @custom_fwd\n",
      "/home/ubuntu/Test/miniforge-pypy3/envs/mamba/lib/python3.11/site-packages/mamba_ssm/ops/selective_scan_interface.py:239: FutureWarning: `torch.cuda.amp.custom_bwd(args...)` is deprecated. Please use `torch.amp.custom_bwd(args..., device_type='cuda')` instead.\n",
      "  @custom_bwd\n",
      "/home/ubuntu/Test/miniforge-pypy3/envs/mamba/lib/python3.11/site-packages/mamba_ssm/ops/triton/layer_norm.py:985: FutureWarning: `torch.cuda.amp.custom_fwd(args...)` is deprecated. Please use `torch.amp.custom_fwd(args..., device_type='cuda')` instead.\n",
      "  @custom_fwd\n",
      "/home/ubuntu/Test/miniforge-pypy3/envs/mamba/lib/python3.11/site-packages/mamba_ssm/ops/triton/layer_norm.py:1044: FutureWarning: `torch.cuda.amp.custom_bwd(args...)` is deprecated. Please use `torch.amp.custom_bwd(args..., device_type='cuda')` instead.\n",
      "  @custom_bwd\n",
      "/home/ubuntu/Test/miniforge-pypy3/envs/mamba/lib/python3.11/site-packages/mamba_ssm/distributed/tensor_parallel.py:25: FutureWarning: `torch.cuda.amp.custom_fwd(args...)` is deprecated. Please use `torch.amp.custom_fwd(args..., device_type='cuda')` instead.\n",
      "  @custom_fwd\n",
      "/home/ubuntu/Test/miniforge-pypy3/envs/mamba/lib/python3.11/site-packages/mamba_ssm/distributed/tensor_parallel.py:61: FutureWarning: `torch.cuda.amp.custom_bwd(args...)` is deprecated. Please use `torch.amp.custom_bwd(args..., device_type='cuda')` instead.\n",
      "  @custom_bwd\n",
      "/home/ubuntu/Test/miniforge-pypy3/envs/mamba/lib/python3.11/site-packages/mamba_ssm/ops/triton/ssd_combined.py:757: FutureWarning: `torch.cuda.amp.custom_fwd(args...)` is deprecated. Please use `torch.amp.custom_fwd(args..., device_type='cuda')` instead.\n",
      "  @custom_fwd\n",
      "/home/ubuntu/Test/miniforge-pypy3/envs/mamba/lib/python3.11/site-packages/mamba_ssm/ops/triton/ssd_combined.py:835: FutureWarning: `torch.cuda.amp.custom_bwd(args...)` is deprecated. Please use `torch.amp.custom_bwd(args..., device_type='cuda')` instead.\n",
      "  @custom_bwd\n",
      "/home/ubuntu/Test/miniforge-pypy3/envs/mamba/lib/python3.11/site-packages/tqdm/auto.py:21: TqdmWarning: IProgress not found. Please update jupyter and ipywidgets. See https://ipywidgets.readthedocs.io/en/stable/user_install.html\n",
      "  from .autonotebook import tqdm as notebook_tqdm\n"
     ]
    }
   ],
   "source": [
    "import mamba_ssm\n",
    "import torch\n",
    "import matplotlib.pyplot as plt\n",
    "def count_parameters(model):\n",
    "    total_params = sum(p.numel() for p in model.parameters())\n",
    "    return total_params"
   ]
  },
  {
   "cell_type": "code",
   "execution_count": 2,
   "id": "dae826b8-3a4d-4079-ba67-44a9eb0f41fd",
   "metadata": {},
   "outputs": [
    {
     "name": "stdout",
     "output_type": "stream",
     "text": [
      "AUTHORS    assets      evals\t\t   pyproject.toml  tests\n",
      "LICENSE    benchmarks  mamba_ssm\t   rocm_patch\n",
      "README.md  csrc        mamba_ssm.egg-info  setup.py\n"
     ]
    }
   ],
   "source": [
    "#from mamba import Mamba2\n",
    "!ls Test/mamba\n",
    "from Test.mamba.mamba_ssm.modules.mamba2 import Mamba2"
   ]
  },
  {
   "cell_type": "code",
   "execution_count": 3,
   "id": "c2d13c4e-096b-4a16-9cee-65bec2918d85",
   "metadata": {},
   "outputs": [],
   "source": [
    "layer = Mamba2(256)"
   ]
  },
  {
   "cell_type": "code",
   "execution_count": 4,
   "id": "bab855f4-1753-4ff7-97f0-f5db13c4c468",
   "metadata": {},
   "outputs": [
    {
     "data": {
      "text/plain": [
       "Mamba2(\n",
       "  (in_proj): Linear(in_features=256, out_features=1288, bias=False)\n",
       "  (conv1d): Conv1d(768, 768, kernel_size=(4,), stride=(1,), padding=(3,), groups=768)\n",
       "  (act): SiLU()\n",
       "  (norm): RMSNorm()\n",
       "  (out_proj): Linear(in_features=512, out_features=256, bias=False)\n",
       ")"
      ]
     },
     "execution_count": 4,
     "metadata": {},
     "output_type": "execute_result"
    }
   ],
   "source": [
    "layer.to('cuda')"
   ]
  },
  {
   "cell_type": "code",
   "execution_count": 5,
   "id": "f2077404-f268-4980-8d98-946cb0236536",
   "metadata": {},
   "outputs": [
    {
     "name": "stdout",
     "output_type": "stream",
     "text": [
      "Forward\n",
      "Using mem_eff_path combined conv1d/scan\n"
     ]
    },
    {
     "data": {
      "text/plain": [
       "tensor([[[ 1.3419,  0.1934,  0.9124,  ...,  0.0342, -0.1520,  0.5218],\n",
       "         [ 0.5760,  0.9400,  1.0234,  ..., -0.3908,  0.3416,  0.2747],\n",
       "         [ 1.2030,  0.0720,  0.4944,  ..., -0.2286,  0.0182,  0.2326],\n",
       "         ...,\n",
       "         [ 0.6874,  0.1012,  0.2480,  ...,  0.6149,  0.1116,  0.2490],\n",
       "         [ 1.3338,  0.3831,  0.0687,  ..., -0.5297, -0.6489,  0.9802],\n",
       "         [ 0.2793,  0.1719,  0.3525,  ..., -0.0395,  0.1204,  0.4159]],\n",
       "\n",
       "        [[ 1.0883,  0.4892,  0.3834,  ..., -0.1507, -0.2160,  0.4070],\n",
       "         [ 0.9860,  0.2323,  0.6860,  ..., -0.0164, -0.0222,  0.2888],\n",
       "         [ 0.9173,  1.0618,  0.4473,  ...,  0.3588, -0.0849,  0.2178],\n",
       "         ...,\n",
       "         [ 0.6079, -0.1363,  0.4662,  ...,  0.2893,  0.1701,  0.4217],\n",
       "         [ 0.8150,  0.2136,  0.6767,  ...,  0.2821, -0.6732,  0.8068],\n",
       "         [ 1.0187,  0.4325,  0.3621,  ..., -0.1710, -0.6066,  0.7537]]],\n",
       "       device='cuda:0', grad_fn=<MambaSplitConv1dScanCombinedFnBackward>)"
      ]
     },
     "execution_count": 5,
     "metadata": {},
     "output_type": "execute_result"
    }
   ],
   "source": [
    "layer(torch.rand([2,2048,256],device='cuda'))"
   ]
  },
  {
   "cell_type": "code",
   "execution_count": null,
   "id": "0607adb4-5f4c-4130-a76d-ebe4430d03ad",
   "metadata": {},
   "outputs": [],
   "source": [
    "import math\n",
    "from collections import defaultdict\n",
    "pow = range(6,12)\n",
    "print([2**p for p in pow])\n",
    "pdict = defaultdict(list)\n",
    "for apow in pow:\n",
    "    for n, p in Mamba2(2**apow).named_parameters():\n",
    "        pdict[n].append(math.log(p.numel()))\n",
    "for k,v in pdict.items():\n",
    "    plt.figure()\n",
    "    plt.plot(pow,v)\n",
    "    plt.title(k)"
   ]
  },
  {
   "cell_type": "code",
   "execution_count": 6,
   "id": "f264c0c1-693c-4449-9a36-64e45ce87138",
   "metadata": {},
   "outputs": [
    {
     "ename": "ValueError",
     "evalue": "Backend constructor parameter must be string-ish",
     "output_type": "error",
     "traceback": [
      "\u001b[0;31m---------------------------------------------------------------------------\u001b[0m",
      "\u001b[0;31mValueError\u001b[0m                                Traceback (most recent call last)",
      "Cell \u001b[0;32mIn[6], line 2\u001b[0m\n\u001b[1;32m      1\u001b[0m \u001b[38;5;28;01mimport\u001b[39;00m \u001b[38;5;21;01mtorch\u001b[39;00m\u001b[38;5;21;01m.\u001b[39;00m\u001b[38;5;21;01mdistributed\u001b[39;00m \u001b[38;5;28;01mas\u001b[39;00m \u001b[38;5;21;01mdist\u001b[39;00m\n\u001b[0;32m----> 2\u001b[0m \u001b[43mdist\u001b[49m\u001b[38;5;241;43m.\u001b[39;49m\u001b[43minit_process_group\u001b[49m\u001b[43m(\u001b[49m\u001b[38;5;241;43m8\u001b[39;49m\u001b[43m)\u001b[49m\n",
      "File \u001b[0;32m~/Test/miniforge-pypy3/envs/mamba/lib/python3.11/site-packages/torch/distributed/c10d_logger.py:79\u001b[0m, in \u001b[0;36m_exception_logger.<locals>.wrapper\u001b[0;34m(*args, **kwargs)\u001b[0m\n\u001b[1;32m     76\u001b[0m \u001b[38;5;129m@functools\u001b[39m\u001b[38;5;241m.\u001b[39mwraps(func)\n\u001b[1;32m     77\u001b[0m \u001b[38;5;28;01mdef\u001b[39;00m \u001b[38;5;21mwrapper\u001b[39m(\u001b[38;5;241m*\u001b[39margs: _P\u001b[38;5;241m.\u001b[39margs, \u001b[38;5;241m*\u001b[39m\u001b[38;5;241m*\u001b[39mkwargs: _P\u001b[38;5;241m.\u001b[39mkwargs) \u001b[38;5;241m-\u001b[39m\u001b[38;5;241m>\u001b[39m _T:\n\u001b[1;32m     78\u001b[0m     \u001b[38;5;28;01mtry\u001b[39;00m:\n\u001b[0;32m---> 79\u001b[0m         \u001b[38;5;28;01mreturn\u001b[39;00m \u001b[43mfunc\u001b[49m\u001b[43m(\u001b[49m\u001b[38;5;241;43m*\u001b[39;49m\u001b[43margs\u001b[49m\u001b[43m,\u001b[49m\u001b[43m \u001b[49m\u001b[38;5;241;43m*\u001b[39;49m\u001b[38;5;241;43m*\u001b[39;49m\u001b[43mkwargs\u001b[49m\u001b[43m)\u001b[49m\n\u001b[1;32m     80\u001b[0m     \u001b[38;5;28;01mexcept\u001b[39;00m \u001b[38;5;167;01mException\u001b[39;00m \u001b[38;5;28;01mas\u001b[39;00m error:\n\u001b[1;32m     81\u001b[0m         msg_dict \u001b[38;5;241m=\u001b[39m _get_msg_dict(func\u001b[38;5;241m.\u001b[39m\u001b[38;5;18m__name__\u001b[39m, \u001b[38;5;241m*\u001b[39margs, \u001b[38;5;241m*\u001b[39m\u001b[38;5;241m*\u001b[39mkwargs)\n",
      "File \u001b[0;32m~/Test/miniforge-pypy3/envs/mamba/lib/python3.11/site-packages/torch/distributed/c10d_logger.py:93\u001b[0m, in \u001b[0;36m_time_logger.<locals>.wrapper\u001b[0;34m(*args, **kwargs)\u001b[0m\n\u001b[1;32m     90\u001b[0m \u001b[38;5;129m@functools\u001b[39m\u001b[38;5;241m.\u001b[39mwraps(func)\n\u001b[1;32m     91\u001b[0m \u001b[38;5;28;01mdef\u001b[39;00m \u001b[38;5;21mwrapper\u001b[39m(\u001b[38;5;241m*\u001b[39margs: _P\u001b[38;5;241m.\u001b[39margs, \u001b[38;5;241m*\u001b[39m\u001b[38;5;241m*\u001b[39mkwargs: _P\u001b[38;5;241m.\u001b[39mkwargs) \u001b[38;5;241m-\u001b[39m\u001b[38;5;241m>\u001b[39m _T:\n\u001b[1;32m     92\u001b[0m     t1 \u001b[38;5;241m=\u001b[39m time\u001b[38;5;241m.\u001b[39mtime_ns()\n\u001b[0;32m---> 93\u001b[0m     func_return \u001b[38;5;241m=\u001b[39m \u001b[43mfunc\u001b[49m\u001b[43m(\u001b[49m\u001b[38;5;241;43m*\u001b[39;49m\u001b[43margs\u001b[49m\u001b[43m,\u001b[49m\u001b[43m \u001b[49m\u001b[38;5;241;43m*\u001b[39;49m\u001b[38;5;241;43m*\u001b[39;49m\u001b[43mkwargs\u001b[49m\u001b[43m)\u001b[49m\n\u001b[1;32m     94\u001b[0m     time_spent \u001b[38;5;241m=\u001b[39m time\u001b[38;5;241m.\u001b[39mtime_ns() \u001b[38;5;241m-\u001b[39m t1\n\u001b[1;32m     96\u001b[0m     msg_dict \u001b[38;5;241m=\u001b[39m _get_msg_dict(func\u001b[38;5;241m.\u001b[39m\u001b[38;5;18m__name__\u001b[39m, \u001b[38;5;241m*\u001b[39margs, \u001b[38;5;241m*\u001b[39m\u001b[38;5;241m*\u001b[39mkwargs)\n",
      "File \u001b[0;32m~/Test/miniforge-pypy3/envs/mamba/lib/python3.11/site-packages/torch/distributed/distributed_c10d.py:1328\u001b[0m, in \u001b[0;36minit_process_group\u001b[0;34m(backend, init_method, timeout, world_size, rank, store, group_name, pg_options, device_id)\u001b[0m\n\u001b[1;32m   1325\u001b[0m     init_method \u001b[38;5;241m=\u001b[39m \u001b[38;5;124m\"\u001b[39m\u001b[38;5;124menv://\u001b[39m\u001b[38;5;124m\"\u001b[39m\n\u001b[1;32m   1327\u001b[0m \u001b[38;5;28;01mif\u001b[39;00m backend:\n\u001b[0;32m-> 1328\u001b[0m     backend \u001b[38;5;241m=\u001b[39m \u001b[43mBackend\u001b[49m\u001b[43m(\u001b[49m\u001b[43mbackend\u001b[49m\u001b[43m)\u001b[49m\n\u001b[1;32m   1329\u001b[0m \u001b[38;5;28;01melse\u001b[39;00m:\n\u001b[1;32m   1330\u001b[0m     backend \u001b[38;5;241m=\u001b[39m Backend(\u001b[38;5;124m\"\u001b[39m\u001b[38;5;124mundefined\u001b[39m\u001b[38;5;124m\"\u001b[39m)\n",
      "File \u001b[0;32m~/Test/miniforge-pypy3/envs/mamba/lib/python3.11/site-packages/torch/distributed/distributed_c10d.py:215\u001b[0m, in \u001b[0;36mBackend.__new__\u001b[0;34m(cls, name)\u001b[0m\n\u001b[1;32m    213\u001b[0m \u001b[38;5;250m\u001b[39m\u001b[38;5;124;03m\"\"\"Create and return a new instance of the class.\"\"\"\u001b[39;00m\n\u001b[1;32m    214\u001b[0m \u001b[38;5;28;01mif\u001b[39;00m \u001b[38;5;129;01mnot\u001b[39;00m \u001b[38;5;28misinstance\u001b[39m(name, \u001b[38;5;28mstr\u001b[39m):\n\u001b[0;32m--> 215\u001b[0m     \u001b[38;5;28;01mraise\u001b[39;00m \u001b[38;5;167;01mValueError\u001b[39;00m(\u001b[38;5;124m\"\u001b[39m\u001b[38;5;124mBackend constructor parameter must be string-ish\u001b[39m\u001b[38;5;124m\"\u001b[39m)\n\u001b[1;32m    216\u001b[0m value \u001b[38;5;241m=\u001b[39m \u001b[38;5;28mgetattr\u001b[39m(Backend, name\u001b[38;5;241m.\u001b[39mupper(), Backend\u001b[38;5;241m.\u001b[39mUNDEFINED)\n\u001b[1;32m    218\u001b[0m \u001b[38;5;28;01mif\u001b[39;00m value \u001b[38;5;241m==\u001b[39m Backend\u001b[38;5;241m.\u001b[39mUNDEFINED:\n",
      "\u001b[0;31mValueError\u001b[0m: Backend constructor parameter must be string-ish"
     ]
    }
   ],
   "source": [
    "import torch.distributed as dist\n",
    "dist.init_process_group(8)"
   ]
  },
  {
   "cell_type": "code",
   "execution_count": null,
   "id": "7df457e2-812b-413d-adb6-48b1af7459f1",
   "metadata": {},
   "outputs": [],
   "source": []
  }
 ],
 "metadata": {
  "kernelspec": {
   "display_name": "mamba",
   "language": "python",
   "name": "mamba"
  },
  "language_info": {
   "codemirror_mode": {
    "name": "ipython",
    "version": 3
   },
   "file_extension": ".py",
   "mimetype": "text/x-python",
   "name": "python",
   "nbconvert_exporter": "python",
   "pygments_lexer": "ipython3",
   "version": "3.11.10"
  }
 },
 "nbformat": 4,
 "nbformat_minor": 5
}
