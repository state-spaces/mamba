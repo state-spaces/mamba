{
 "cells": [
  {
   "cell_type": "code",
   "execution_count": null,
   "id": "a88fdfcf-3cd4-4bf3-a3de-361af74202f9",
   "metadata": {},
   "outputs": [],
   "source": [
    "#from torch.nn import Conv1d\n",
    "import torch"
   ]
  },
  {
   "cell_type": "code",
   "execution_count": null,
   "id": "f00e43da-3bfc-4af2-8923-5e2a15329690",
   "metadata": {},
   "outputs": [],
   "source": [
    "conv_dim=8\n",
    "conv_bias = False\n",
    "d_conv = 4\n",
    "conv1d = Conv1d(\n",
    "            in_channels=conv_dim,\n",
    "            out_channels=conv_dim,\n",
    "            bias=conv_bias,\n",
    "            kernel_size=d_conv,\n",
    "            groups=conv_dim,\n",
    "            padding=d_conv - 1,\n",
    "            #**factory_kwargs,\n",
    "        )"
   ]
  },
  {
   "cell_type": "code",
   "execution_count": 3,
   "id": "f1bf6247-8926-4dc7-a289-d8426f748301",
   "metadata": {},
   "outputs": [
    {
     "data": {
      "text/plain": [
       "Conv1d(8, 8, kernel_size=(4,), stride=(1,), padding=(3,), groups=8, bias=False)"
      ]
     },
     "execution_count": 3,
     "metadata": {},
     "output_type": "execute_result"
    }
   ],
   "source": [
    "conv1d"
   ]
  },
  {
   "cell_type": "code",
   "execution_count": 4,
   "id": "e7ca3242-2581-4809-80d4-445c64e9dce3",
   "metadata": {},
   "outputs": [],
   "source": [
    "data = torch.randn(4,conv_dim,16)\n",
    "whole_res = conv1d(data)"
   ]
  },
  {
   "cell_type": "code",
   "execution_count": 5,
   "id": "840f9f90-9f84-47a3-b417-f574e9643b39",
   "metadata": {},
   "outputs": [
    {
     "data": {
      "text/plain": [
       "torch.Size([4, 8, 19])"
      ]
     },
     "execution_count": 5,
     "metadata": {},
     "output_type": "execute_result"
    }
   ],
   "source": [
    "whole_res.shape"
   ]
  },
  {
   "cell_type": "code",
   "execution_count": 7,
   "id": "7b1d4ae9-5f75-4adf-9046-6b73352c4c71",
   "metadata": {},
   "outputs": [
    {
     "ename": "ModuleNotFoundError",
     "evalue": "No module named 'einops'",
     "output_type": "error",
     "traceback": [
      "\u001b[0;31m---------------------------------------------------------------------------\u001b[0m",
      "\u001b[0;31mModuleNotFoundError\u001b[0m                       Traceback (most recent call last)",
      "Cell \u001b[0;32mIn[7], line 1\u001b[0m\n\u001b[0;32m----> 1\u001b[0m \u001b[38;5;28;01mfrom\u001b[39;00m \u001b[38;5;21;01meinops\u001b[39;00m \u001b[38;5;28;01mimport\u001b[39;00m rearrange\n\u001b[1;32m      2\u001b[0m s \u001b[38;5;241m=\u001b[39m \u001b[38;5;241m4\u001b[39m\n\u001b[1;32m      3\u001b[0m data_split \u001b[38;5;241m=\u001b[39m [data[:,:,\u001b[38;5;28mmax\u001b[39m(\u001b[38;5;241m0\u001b[39m,s\u001b[38;5;241m*\u001b[39mi\u001b[38;5;241m-\u001b[39md_conv\u001b[38;5;241m+\u001b[39m\u001b[38;5;241m1\u001b[39m):s\u001b[38;5;241m*\u001b[39m(i\u001b[38;5;241m+\u001b[39m\u001b[38;5;241m1\u001b[39m)\u001b[38;5;241m+\u001b[39md_conv\u001b[38;5;241m-\u001b[39m\u001b[38;5;241m1\u001b[39m] \u001b[38;5;28;01mfor\u001b[39;00m i \u001b[38;5;129;01min\u001b[39;00m \u001b[38;5;28mrange\u001b[39m(data\u001b[38;5;241m.\u001b[39mshape[\u001b[38;5;241m-\u001b[39m\u001b[38;5;241m1\u001b[39m]\u001b[38;5;241m/\u001b[39m\u001b[38;5;241m/\u001b[39ms)]\n",
      "\u001b[0;31mModuleNotFoundError\u001b[0m: No module named 'einops'"
     ]
    }
   ],
   "source": [
    "from einops import rearrange\n",
    "s = 4\n",
    "data_split = [data[:,:,max(0,s*i-d_conv+1):s*(i+1)+d_conv-1] for i in range(data.shape[-1]//s)]\n",
    "#data_split = rearrange(data, 'i j (n k) -> n i j k', n = 2)\n",
    "print(1*s+conv_dim)\n",
    "print(data_split[1].shape)"
   ]
  },
  {
   "cell_type": "code",
   "execution_count": 7,
   "id": "e07a3b15-080b-4d58-ae59-646f3b27d18a",
   "metadata": {},
   "outputs": [
    {
     "ename": "NameError",
     "evalue": "name 'data_split' is not defined",
     "output_type": "error",
     "traceback": [
      "\u001b[0;31m---------------------------------------------------------------------------\u001b[0m",
      "\u001b[0;31mNameError\u001b[0m                                 Traceback (most recent call last)",
      "Cell \u001b[0;32mIn[7], line 1\u001b[0m\n\u001b[0;32m----> 1\u001b[0m res \u001b[38;5;241m=\u001b[39m [conv1d(x) \u001b[38;5;28;01mfor\u001b[39;00m x \u001b[38;5;129;01min\u001b[39;00m \u001b[43mdata_split\u001b[49m]\n",
      "\u001b[0;31mNameError\u001b[0m: name 'data_split' is not defined"
     ]
    }
   ],
   "source": [
    "res = [conv1d(x) for x in data_split]"
   ]
  },
  {
   "cell_type": "code",
   "execution_count": 8,
   "id": "1373f831-fd6e-401c-b2e9-3ccaf9e60b88",
   "metadata": {},
   "outputs": [
    {
     "ename": "NameError",
     "evalue": "name 'res' is not defined",
     "output_type": "error",
     "traceback": [
      "\u001b[0;31m---------------------------------------------------------------------------\u001b[0m",
      "\u001b[0;31mNameError\u001b[0m                                 Traceback (most recent call last)",
      "Cell \u001b[0;32mIn[8], line 1\u001b[0m\n\u001b[0;32m----> 1\u001b[0m \u001b[38;5;28mprint\u001b[39m(\u001b[43mres\u001b[49m[\u001b[38;5;241m0\u001b[39m]\u001b[38;5;241m.\u001b[39mshape, whole_res\u001b[38;5;241m.\u001b[39mshape)\n",
      "\u001b[0;31mNameError\u001b[0m: name 'res' is not defined"
     ]
    }
   ],
   "source": [
    "print(res[0].shape, whole_res.shape)"
   ]
  },
  {
   "cell_type": "code",
   "execution_count": 9,
   "id": "4accf915-f1cd-40b0-adca-7141805fade6",
   "metadata": {},
   "outputs": [
    {
     "ename": "NameError",
     "evalue": "name 'res' is not defined",
     "output_type": "error",
     "traceback": [
      "\u001b[0;31m---------------------------------------------------------------------------\u001b[0m",
      "\u001b[0;31mNameError\u001b[0m                                 Traceback (most recent call last)",
      "Cell \u001b[0;32mIn[9], line 1\u001b[0m\n\u001b[0;32m----> 1\u001b[0m \u001b[43mres\u001b[49m[\u001b[38;5;241m0\u001b[39m][\u001b[38;5;241m0\u001b[39m]\u001b[38;5;241m.\u001b[39mshape\n",
      "\u001b[0;31mNameError\u001b[0m: name 'res' is not defined"
     ]
    }
   ],
   "source": [
    "res[0][0].shape"
   ]
  },
  {
   "cell_type": "code",
   "execution_count": 121,
   "id": "b9d7fb2b-70e7-4a8b-b45b-5105d6cf4fd9",
   "metadata": {},
   "outputs": [
    {
     "name": "stdout",
     "output_type": "stream",
     "text": [
      "torch.Size([4, 8, 19])\n",
      "torch.Size([4, 8, 10])\n",
      "torch.Size([4, 8, 13])\n",
      "torch.Size([4, 8, 13])\n",
      "torch.Size([4, 8, 10])\n"
     ]
    }
   ],
   "source": [
    "print(whole_res.shape)\n",
    "for i, r in enumerate(res):\n",
    "    l = s+d_conv-1\n",
    "    print(r.shape)\n",
    "    #print(whole_res[0,:,max(0,i*l-d_conv+1):(i+1)*l+d_conv-1]-r)"
   ]
  },
  {
   "cell_type": "code",
   "execution_count": 82,
   "id": "20963dcf-792e-48bc-b8fb-66f3fa1f08ca",
   "metadata": {},
   "outputs": [
    {
     "data": {
      "text/plain": [
       "tensor([[ 0.0000,  0.0000,  0.0000,  0.0000,  0.0000,  0.0000,  0.0000,  0.0000,\n",
       "         -0.1921, -0.1024],\n",
       "        [ 0.0000,  0.0000,  0.0000,  0.0000,  0.0000,  0.0000,  0.0000,  0.0000,\n",
       "          0.2797,  0.6762],\n",
       "        [ 0.0000,  0.0000,  0.0000,  0.0000,  0.0000,  0.0000,  0.0000,  0.0000,\n",
       "          0.0633,  0.0706],\n",
       "        [ 0.0000,  0.0000,  0.0000,  0.0000,  0.0000,  0.0000,  0.0000,  0.0000,\n",
       "          0.3245, -0.3995],\n",
       "        [ 0.0000,  0.0000,  0.0000,  0.0000,  0.0000,  0.0000,  0.0000,  0.0000,\n",
       "          0.0516,  0.3056],\n",
       "        [ 0.0000,  0.0000,  0.0000,  0.0000,  0.0000,  0.0000,  0.0000,  0.0000,\n",
       "          0.2616,  0.6984],\n",
       "        [ 0.0000,  0.0000,  0.0000,  0.0000,  0.0000,  0.0000,  0.0000,  0.0000,\n",
       "         -0.1477,  0.2652],\n",
       "        [ 0.0000,  0.0000,  0.0000,  0.0000,  0.0000,  0.0000,  0.0000,  0.0000,\n",
       "          0.3254, -0.6957]], grad_fn=<SubBackward0>)"
      ]
     },
     "execution_count": 82,
     "metadata": {},
     "output_type": "execute_result"
    }
   ],
   "source": [
    "whole_res[0,:,:10]-res[0][0,:,:10]"
   ]
  },
  {
   "cell_type": "code",
   "execution_count": null,
   "id": "e2e48339-94e1-47a2-bf71-7c90c5bdcd37",
   "metadata": {},
   "outputs": [],
   "source": []
  }
 ],
 "metadata": {
  "kernelspec": {
   "display_name": "mamba",
   "language": "python",
   "name": "mamba"
  },
  "language_info": {
   "codemirror_mode": {
    "name": "ipython",
    "version": 3
   },
   "file_extension": ".py",
   "mimetype": "text/x-python",
   "name": "python",
   "nbconvert_exporter": "python",
   "pygments_lexer": "ipython3",
   "version": "3.9.19"
  }
 },
 "nbformat": 4,
 "nbformat_minor": 5
}
